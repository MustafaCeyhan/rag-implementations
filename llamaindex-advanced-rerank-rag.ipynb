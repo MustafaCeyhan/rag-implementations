{
 "cells": [
  {
   "cell_type": "code",
   "execution_count": null,
   "metadata": {},
   "outputs": [],
   "source": [
    "from llama_index.core import VectorStoreIndex, SimpleDirectoryReader\n",
    "from llama_index.embeddings.openai import OpenAIEmbedding\n",
    "from llama_index.llms.openai import OpenAI\n",
    "from llama_index.core.llms import ChatMessage"
   ]
  },
  {
   "cell_type": "code",
   "execution_count": null,
   "metadata": {},
   "outputs": [],
   "source": [
    "# .env dosyası içerisinde gerekli olan keyler alınır\n",
    "from dotenv import load_dotenv\n",
    "_ = load_dotenv()\n",
    "\n",
    "\n",
    "# Key bilgisi sağlamanın diğer yolu\n",
    "\n",
    "# import openai\n",
    "# openai.api_key = \"YOUR_OPENAI_API_KEY\""
   ]
  },
  {
   "cell_type": "code",
   "execution_count": null,
   "metadata": {},
   "outputs": [],
   "source": [
    "# LLM modelini tanımla\n",
    "llm = OpenAI(model=\"gpt-4o-mini\")"
   ]
  },
  {
   "cell_type": "code",
   "execution_count": 22,
   "metadata": {},
   "outputs": [],
   "source": [
    "# Query Rewriting\n",
    "\n",
    "def rewrite_query(query):\n",
    "    prompt = f\"Rewrite the following query to be more precise for search: {query}\"\n",
    "\n",
    "    messages = [\n",
    "        ChatMessage(\n",
    "            role=\"system\", content=prompt\n",
    "        ),\n",
    "    ]\n",
    "    \n",
    "    response = llm.chat(messages)\n",
    "    return response.message.content"
   ]
  },
  {
   "cell_type": "code",
   "execution_count": null,
   "metadata": {},
   "outputs": [],
   "source": [
    "# 3. Load and Embed Documents\n",
    "data_dir = \"data\"\n",
    "reader = SimpleDirectoryReader(data_dir)  # 'data' klasöründeki belgeleri okur\n",
    "docs = reader.load_data()\n",
    "\n",
    "embedding_model = OpenAIEmbedding(model=\"text-embedding-ada-002\",vector_store_query_mode='default')\n",
    "# vector_store_query_mode:\n",
    "# default: Standart benzerlik araması (kozünüs benzerliği kullanır).\n",
    "# mmr: Maximal Marginal Relevance (MMR) ile çeşitliliği artırır. Aynı türden belgelerin tekrar etmesini engeller.\n",
    "# hybrid: Vektör benzerliği + Anahtar kelime eşleşmesi kombinasyonu kullanır (TF-IDF veya BM25 ile).\n",
    "\n",
    "index = VectorStoreIndex.from_documents(docs, embed_model=embedding_model)\n",
    "retriever = index.as_retriever(similarity_top_k=7)"
   ]
  },
  {
   "cell_type": "code",
   "execution_count": 5,
   "metadata": {},
   "outputs": [
    {
     "name": "stderr",
     "output_type": "stream",
     "text": [
      "c:\\Users\\Fatma Ceyhan\\.conda\\envs\\rag\\lib\\site-packages\\tqdm\\auto.py:21: TqdmWarning: IProgress not found. Please update jupyter and ipywidgets. See https://ipywidgets.readthedocs.io/en/stable/user_install.html\n",
      "  from .autonotebook import tqdm as notebook_tqdm\n"
     ]
    }
   ],
   "source": [
    "from sentence_transformers import SentenceTransformer\n",
    "\n",
    "# Rerank için Bi-Encoder modelini yükle\n",
    "bi_encoder = SentenceTransformer(\"sentence-transformers/all-MiniLM-L6-v2\")"
   ]
  },
  {
   "cell_type": "code",
   "execution_count": 16,
   "metadata": {},
   "outputs": [],
   "source": [
    "def search_documents(query):\n",
    "    # Daha iyi bir arama için sorgunun rewrite edilmesi\n",
    "    rewrited_query = rewrite_query(query)\n",
    "\n",
    "    # Belge alma (Retriever ile)\n",
    "    retrieved_docs = retriever.retrieve(rewrited_query)  # İlk K doküman\n",
    "\n",
    "    # Eğer belge yoksa, boş döndür\n",
    "    if not retrieved_docs:\n",
    "        return []\n",
    "\n",
    "    # Belge metinlerini ve vektörlerini al\n",
    "    doc_texts = [doc.text for doc in retrieved_docs]\n",
    "    doc_embeddings = bi_encoder.encode(doc_texts, normalize_embeddings=True)\n",
    "\n",
    "    # Sorgu vektörünü hesapla\n",
    "    query_embedding = bi_encoder.encode(query, normalize_embeddings=True)\n",
    "\n",
    "    # Re-Rank aşaması (Dot Product kullanarak sıralama)\n",
    "    rerank_scores = query_embedding @ doc_embeddings.T  # Dot product similarity\n",
    "\n",
    "    # Dokümanları yeni skorlara göre sırala\n",
    "    ranked_docs = sorted(zip(doc_texts, rerank_scores), key=lambda x: x[1], reverse=True)\n",
    "\n",
    "    # En iyi 7 dokümanı döndür\n",
    "    return [doc[0] for doc in ranked_docs[:4]], rewrited_query"
   ]
  },
  {
   "cell_type": "code",
   "execution_count": 24,
   "metadata": {},
   "outputs": [],
   "source": [
    "def generate_response(query):\n",
    "    relevant_docs, rewrited_query = search_documents(query)\n",
    "    context = \"\\n\".join(relevant_docs)\n",
    "    prompt = f\"Given the following documents, answer the query concisely.\\n\\nContext:\\n{context}\\n\\nQuery: {rewrited_query}\" \n",
    "    \n",
    "    messages = [\n",
    "        ChatMessage(\n",
    "            role=\"system\", content=prompt\n",
    "        ),\n",
    "    ]\n",
    "\n",
    "    response = llm.chat(messages)\n",
    "    return response.message.content, prompt"
   ]
  },
  {
   "cell_type": "code",
   "execution_count": 20,
   "metadata": {},
   "outputs": [
    {
     "name": "stdout",
     "output_type": "stream",
     "text": [
      "Prompt: \n",
      "Given the following documents, answer the query concisely.\n",
      "\n",
      "Context:\n",
      "AI is rapidly evolving with trends like multimodal learning, smaller efficient models, and AI safety improvements.\n",
      "The concept of AI dates back to ancient myths and early philosophical discussions, but it became a formal field of study in the 1950s. Early AI models focused on rule-based systems, while modern AI leverages deep learning and neural networks to achieve impressive levels of intelligence. From IBM's Deep Blue defeating a chess champion to OpenAI's ChatGPT generating human-like text, AI has come a long way.\n",
      "AI continues to evolve rapidly, with advancements in general AI, explainable AI, and AI-human collaboration. Researchers are exploring artificial general intelligence (AGI), where machines could possess human-like cognitive abilities. The future of AI could reshape society, making tasks easier while raising new ethical and economic considerations.\n",
      "Businesses leverage AI to optimize operations, detect fraud, and enhance customer service. Chatbots and virtual assistants handle customer inquiries, while AI-powered analytics help companies predict market trends and consumer behavior. In finance, AI algorithms assess credit risks, detect suspicious transactions, and automate trading strategies.\n",
      "\n",
      "Query: What are the most recent trends in artificial intelligence as of October 2023?\n",
      "Answer: As of October 2023, the most recent trends in artificial intelligence include multimodal learning, the development of smaller and more efficient models, and improvements in AI safety. Additionally, advancements in general AI, explainable AI, and AI-human collaboration are also notable trends.\n"
     ]
    }
   ],
   "source": [
    "# Test\n",
    "query = \"What are the latest AI trends?\"\n",
    "#query = \"What is AI?\"\n",
    "#query = \"What is relationship between AI and Autonomous systems?\"\n",
    "#query = \"What is AI history an relationship between AI and Autonomous systems?\"\n",
    "#query = \"What is relationship among AI, Finance, Machine Learning and Autonomous systems?\"\n",
    "response, prompt = generate_response(query)\n",
    "print(f\"Prompt: \\n{prompt}\")\n",
    "print(f\"Answer: {response}\")"
   ]
  }
 ],
 "metadata": {
  "kernelspec": {
   "display_name": "Python 3",
   "language": "python",
   "name": "python3"
  },
  "language_info": {
   "codemirror_mode": {
    "name": "ipython",
    "version": 3
   },
   "file_extension": ".py",
   "mimetype": "text/x-python",
   "name": "python",
   "nbconvert_exporter": "python",
   "pygments_lexer": "ipython3",
   "version": "3.10.16"
  }
 },
 "nbformat": 4,
 "nbformat_minor": 2
}
