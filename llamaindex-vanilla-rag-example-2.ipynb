{
 "cells": [
  {
   "cell_type": "code",
   "execution_count": 2,
   "metadata": {},
   "outputs": [],
   "source": [
    "from llama_index.core import VectorStoreIndex, SimpleDirectoryReader\n",
    "from llama_index.embeddings.openai import OpenAIEmbedding\n",
    "from llama_index.llms.openai import OpenAI\n",
    "from llama_index.core.llms import ChatMessage"
   ]
  },
  {
   "cell_type": "code",
   "execution_count": null,
   "metadata": {},
   "outputs": [],
   "source": [
    "# .env dosyası içerisinde gerekli olan keyler alınır / Required keys are retrieved from the .env file\n",
    "from dotenv import load_dotenv\n",
    "_ = load_dotenv()\n",
    "\n",
    "# Key bilgisi sağlamanın diğer yolu / Another way to provide the key\n",
    "\n",
    "# import openai\n",
    "# openai.api_key = \"YOUR_OPENAI_API_KEY\""
   ]
  },
  {
   "cell_type": "code",
   "execution_count": null,
   "metadata": {},
   "outputs": [],
   "source": [
    "# LLM Model\n",
    "llm = OpenAI(model=\"gpt-4o-mini\")\n",
    "\n",
    "# Dökümanların yüklenmesi \\\\ Load Documents\n",
    "data_dir = \"data\"\n",
    "reader = SimpleDirectoryReader(data_dir)  # 'data' klasöründeki belgeleri okur\n",
    "docs = reader.load_data()\n",
    "\n",
    "# Embedding model\n",
    "embedding_model = OpenAIEmbedding(model=\"text-embedding-ada-002\",vector_store_query_mode='default')\n",
    "\n",
    "# Dokümanların indekslenmesi \\\\ Indexing to the documents\n",
    "index = VectorStoreIndex.from_documents(docs, embed_model=embedding_model)\n",
    "retriever = index.as_retriever(similarity_top_k=3)"
   ]
  },
  {
   "cell_type": "code",
   "execution_count": 7,
   "metadata": {},
   "outputs": [],
   "source": [
    "def search_documents(query, threshold):\n",
    "    # İlk aşama: Belge alma (Retriever ile) // First stage: Documentation (with Retriever)\n",
    "    retrieved_docs = retriever.retrieve(query)  # İlk K doküman\n",
    "\n",
    "    # Eğer belge yoksa, boş döndür // If there is no document, return blank\n",
    "    if not retrieved_docs:\n",
    "        return []\n",
    "\n",
    "    # Retrieve edilen dokümanlar da eşik üstü kalan dokümanlar döndür // Return documents that are above the threshold among retrieved documents\n",
    "    return [doc.text for doc in retrieved_docs if doc.score >= threshold]"
   ]
  },
  {
   "cell_type": "code",
   "execution_count": 10,
   "metadata": {},
   "outputs": [],
   "source": [
    "def generate_response(query, threshold):\n",
    "    relevant_docs = search_documents(query, threshold)\n",
    "    context = \"\\n\".join(relevant_docs)\n",
    "\n",
    "    # Eğer herhangi bir döküman retrive edilmemişse sorguya herhangi bir ekleme yapılmaz \n",
    "    if not relevant_docs:\n",
    "        prompt = f\"Query: {query}\" \n",
    "    # Eğer uygun bulunan döküman varsa prompt'a çekilen dökümanlar eklenir.\n",
    "    else:\n",
    "        prompt = f\"Given the following documents, answer the query concisely.\\n\\nContext:\\n{context}\\n\\nQuery: {query}\" \n",
    "    print(prompt)\n",
    "    messages = [\n",
    "        ChatMessage(\n",
    "            role=\"system\", content=prompt\n",
    "        ),\n",
    "    ]\n",
    "\n",
    "    response = llm.chat(messages)\n",
    "    return f\"Answer: {response.message.content}\""
   ]
  },
  {
   "cell_type": "code",
   "execution_count": 11,
   "metadata": {},
   "outputs": [
    {
     "name": "stdout",
     "output_type": "stream",
     "text": [
      "Given the following documents, answer the query concisely.\n",
      "\n",
      "Context:\n",
      "Artificial intelligence (AI) refers to the development of computer systems that can perform tasks typically requiring human intelligence, such as problem-solving, decision-making, language understanding, and pattern recognition. AI is transforming industries by automating complex processes, improving efficiency, and enabling new innovations that were once thought impossible.\n",
      "AI continues to evolve rapidly, with advancements in general AI, explainable AI, and AI-human collaboration. Researchers are exploring artificial general intelligence (AGI), where machines could possess human-like cognitive abilities. The future of AI could reshape society, making tasks easier while raising new ethical and economic considerations.\n",
      "The concept of AI dates back to ancient myths and early philosophical discussions, but it became a formal field of study in the 1950s. Early AI models focused on rule-based systems, while modern AI leverages deep learning and neural networks to achieve impressive levels of intelligence. From IBM's Deep Blue defeating a chess champion to OpenAI's ChatGPT generating human-like text, AI has come a long way.\n",
      "\n",
      "Query: What is the AI?\n",
      "Answer: Artificial intelligence (AI) is the development of computer systems that can perform tasks typically requiring human intelligence, such as problem-solving, decision-making, language understanding, and pattern recognition. It is transforming industries by automating complex processes and enabling new innovations. AI has evolved from early rule-based systems to modern techniques like deep learning and neural networks.\n"
     ]
    }
   ],
   "source": [
    "# Test\n",
    "#query = \"What are the latest AI trends?\"\n",
    "#query = \"is cat animal\"\n",
    "query = \"What is the AI?\"\n",
    "#query = \"What is relationship between AI and Autonomous systems?\"\n",
    "#query = \"What is AI history an relationship between AI and Autonomous systems?\"\n",
    "#query = \"What is relationship among AI, Finance, Machine Learning and Autonomous systems?\"\n",
    "response = generate_response(query, threshold=0.75)\n",
    "print(response)"
   ]
  },
  {
   "cell_type": "code",
   "execution_count": null,
   "metadata": {},
   "outputs": [
    {
     "name": "stdout",
     "output_type": "stream",
     "text": [
      "Query: Is cat animal\n",
      "Answer: Yes, a cat is an animal. Specifically, it is a domesticated mammal belonging to the species Felis catus. Cats are known for their companionship with humans and are popular pets around the world.\n"
     ]
    }
   ],
   "source": [
    "# Vector DB içerisinde alakalı döküman yoksa\n",
    "query = \"Is cat animal\"\n",
    "response = generate_response(query, threshold=0.75)\n",
    "print(response)"
   ]
  }
 ],
 "metadata": {
  "kernelspec": {
   "display_name": "Python 3",
   "language": "python",
   "name": "python3"
  },
  "language_info": {
   "codemirror_mode": {
    "name": "ipython",
    "version": 3
   },
   "file_extension": ".py",
   "mimetype": "text/x-python",
   "name": "python",
   "nbconvert_exporter": "python",
   "pygments_lexer": "ipython3",
   "version": "3.10.16"
  }
 },
 "nbformat": 4,
 "nbformat_minor": 2
}
