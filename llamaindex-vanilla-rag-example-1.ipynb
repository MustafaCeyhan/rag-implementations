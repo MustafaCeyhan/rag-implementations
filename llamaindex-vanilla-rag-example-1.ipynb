{
 "cells": [
  {
   "cell_type": "code",
   "execution_count": 2,
   "metadata": {},
   "outputs": [],
   "source": [
    "from llama_index.core import VectorStoreIndex\n",
    "from llama_index.embeddings.openai import OpenAIEmbedding\n",
    "from llama_index.llms.openai import OpenAI\n",
    "from llama_index.readers.wikipedia import WikipediaReader"
   ]
  },
  {
   "cell_type": "code",
   "execution_count": null,
   "metadata": {},
   "outputs": [],
   "source": [
    "# .env dosyası içerisinde gerekli olan keyler alınır / Required keys are retrieved from the .env file\n",
    "from dotenv import load_dotenv\n",
    "_ = load_dotenv()\n",
    "\n",
    "# Key bilgisi sağlamanın diğer yolu / Another way to provide the key\n",
    "\n",
    "# import openai\n",
    "# openai.api_key = \"YOUR_OPENAI_API_KEY\""
   ]
  },
  {
   "cell_type": "code",
   "execution_count": null,
   "metadata": {},
   "outputs": [],
   "source": [
    "# Wikipedia'dan veri çekme. Bu kısımda RAG yapımız için doküman sağlanıyor. Farklı konularda wikipedia üzerinden doküman çekilebilir.\n",
    "wikipedia_titles = [\"Artificial intelligence\",\"AI\", \"AI Trend\"]  # İlgili makale başlıkları\n",
    "wiki_docs = WikipediaReader().load_data(pages=wikipedia_titles)"
   ]
  },
  {
   "cell_type": "code",
   "execution_count": null,
   "metadata": {},
   "outputs": [],
   "source": [
    "# LlamaIndex için embedding modelini ayarla\n",
    "embed_model = OpenAIEmbedding(model=\"text-embedding-ada-002\")\n",
    "\n",
    "# LLM modelini tanımla\n",
    "llm = OpenAI(model=\"gpt-4o-mini\", temperature=0.7)\n",
    "\n",
    "# Index oluştur ve kaydet\n",
    "index = VectorStoreIndex.from_documents(wiki_docs, embed_model=embed_model)\n",
    "# query engine gerekli dokümanları çeker ve bunlar ile tek seferlik cevap üretir.\n",
    "# similarity_top_k: top 3 dökümanı getirir.\n",
    "# similarity_cutoff: dokümanların similarty scoreları bu değerin üstünde olmalıdır.\n",
    "query_engine = index.as_query_engine(llm=llm, similarity_top_k=3, similarity_cutoff=0.70)"
   ]
  },
  {
   "cell_type": "code",
   "execution_count": 44,
   "metadata": {},
   "outputs": [
    {
     "name": "stdout",
     "output_type": "stream",
     "text": [
      "Artificial intelligence (AI) is the capability of computational systems to perform tasks typically associated with human intelligence, including learning, reasoning, problem-solving, perception, and decision-making. It encompasses the development and study of methods and software that enable machines to perceive their environment and take actions aimed at achieving specific goals. AI can manifest in various forms, such as virtual assistants, recommendation systems, autonomous vehicles, and generative tools, among others. The field involves a range of subfields focused on different aspects of intelligence, including reasoning, knowledge representation, and natural language processing, and it has experienced significant growth and investment in recent years.\n"
     ]
    }
   ],
   "source": [
    "# Örnek bir soru soralım\n",
    "query = \"What is artificial intelligence?\"\n",
    "response = query_engine.query(query)\n",
    "print(response)"
   ]
  },
  {
   "cell_type": "code",
   "execution_count": null,
   "metadata": {},
   "outputs": [
    {
     "data": {
      "text/plain": [
       "0.8846989434304253"
      ]
     },
     "execution_count": 54,
     "metadata": {},
     "output_type": "execute_result"
    }
   ],
   "source": [
    "# Retrive edilen dökümanların benzerlik scoreları kontrol edilebilir.\n",
    "response.source_nodes[0].score"
   ]
  }
 ],
 "metadata": {
  "kernelspec": {
   "display_name": "Python 3",
   "language": "python",
   "name": "python3"
  },
  "language_info": {
   "codemirror_mode": {
    "name": "ipython",
    "version": 3
   },
   "file_extension": ".py",
   "mimetype": "text/x-python",
   "name": "python",
   "nbconvert_exporter": "python",
   "pygments_lexer": "ipython3",
   "version": "3.10.16"
  }
 },
 "nbformat": 4,
 "nbformat_minor": 2
}
